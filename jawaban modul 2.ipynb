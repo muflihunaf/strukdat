{
 "cells": [
  {
   "cell_type": "code",
   "execution_count": 1,
   "metadata": {
    "scrolled": true
   },
   "outputs": [
    {
     "name": "stdout",
     "output_type": "stream",
     "text": [
      "['[', '(']\n",
      "(\n",
      "['[', '(']\n",
      "(\n",
      "['[']\n",
      "[\n",
      "True\n"
     ]
    }
   ],
   "source": [
    "import stack as st\n",
    "def is_valid(operasi):\n",
    "    cek = st.Stack()\n",
    "    kurung = {'}':'{',')':'(',']':'['}\n",
    "    \n",
    "    for ch in operasi:\n",
    "        if ch in kurung.values():\n",
    "            st.push(cek,ch)\n",
    "        elif ch in kurung.keys():\n",
    "            if st.isEmpty(cek):\n",
    "                break\n",
    "                print('kelebihan ' + str(ch))\n",
    "                return False\n",
    "            else:\n",
    "                a = st.peek(cek)\n",
    "                print(cek)\n",
    "                print(kurung[ch])\n",
    "                if kurung[ch] == a:\n",
    "                    st.pop(cek)\n",
    "                else:\n",
    "                    print('kurung tidak cocok')\n",
    "                    return False\n",
    "    if st.size(cek) > 0:\n",
    "        print('kelebihan Kurung Buka')\n",
    "        return False\n",
    "    else:\n",
    "        return True\n",
    "\n",
    "print(is_valid('[(5+6)*(20-14)]'))"
   ]
  },
  {
   "cell_type": "code",
   "execution_count": 34,
   "metadata": {},
   "outputs": [
    {
     "data": {
      "text/plain": [
       "['3 ', '+', ' 4 ', '*', ' 5']"
      ]
     },
     "execution_count": 34,
     "metadata": {},
     "output_type": "execute_result"
    }
   ],
   "source": [
    "def jadi_token(rumus):\n",
    "    token = []\n",
    "    text = \"\"\n",
    "    kurung = {'{':'}','(':')','[':']'}\n",
    "    operator = {'+':'+','-':'-',':':':','*':'*'}\n",
    "    for ch in rumus:\n",
    "        if (ch not in operator.keys()) and (ch not in kurung.keys() and (ch not in kurung.values())):\n",
    "            text += ch\n",
    "        else:\n",
    "            if text != \"\":\n",
    "                token.append(text)\n",
    "                text = \"\"\n",
    "            token.append(ch)\n",
    "    if text != \"\":\n",
    "        token.append(text)\n",
    "        text = \"\"\n",
    "    return token\n",
    "jadi_token(\"3 + 4 * 5\")"
   ]
  },
  {
   "cell_type": "code",
   "execution_count": 37,
   "metadata": {},
   "outputs": [
    {
     "name": "stdout",
     "output_type": "stream",
     "text": [
      "3  4 5 * + \n"
     ]
    }
   ],
   "source": [
    "def in2post(strInfix):\n",
    "    data = st.Stack()\n",
    "    operator = {'+':'+','-':'-',':':':','*':'*'}\n",
    "    kurung = {'{':'}','(':')','[':']'}\n",
    "    s = jadi_token(strInfix)\n",
    "    rumus = ''\n",
    "    for ch in s:\n",
    "        if ch in kurung.keys():\n",
    "            st.push(data,ch)\n",
    "        elif ch in operator.keys():\n",
    "            st.push(data,operator[ch])\n",
    "        elif ch not in kurung.values():\n",
    "            rumus += ch + ' '\n",
    "        else:\n",
    "            while not st.isEmpty(data):\n",
    "                    a = st.pop(data)\n",
    "                    if a in operator.keys():\n",
    "                        rumus += a + ' '\n",
    "                    elif st.isEmpty(data):\n",
    "                        break\n",
    "    while not st.isEmpty(data):\n",
    "        a = st.pop(data)\n",
    "        if a in operator.keys():\n",
    "            rumus += a + ' '\n",
    "        else:\n",
    "            break\n",
    "    return rumus\n",
    "\n",
    "print(in2post('3 +4*5'))\n"
   ]
  },
  {
   "cell_type": "code",
   "execution_count": 4,
   "metadata": {},
   "outputs": [
    {
     "data": {
      "text/plain": [
       "['23']"
      ]
     },
     "execution_count": 4,
     "metadata": {},
     "output_type": "execute_result"
    }
   ],
   "source": [
    "def evaluatePost(strPostfix):\n",
    "    data = st.Stack()\n",
    "    s = strPostfix.split()\n",
    "    hasil = 0\n",
    "    for i in s:\n",
    "        if i.isdigit() == True:\n",
    "            st.push(data,i)\n",
    "        else:\n",
    "            if i == ':':\n",
    "                i = '/'\n",
    "            num1 = st.pop(data)\n",
    "            num2 = st.pop(data)\n",
    "            st.push(data,str(eval(num2 + i + num1)))\n",
    "    return data\n",
    "            \n",
    "evaluatePost(in2post('3+4*5'))"
   ]
  },
  {
   "cell_type": "code",
   "execution_count": 9,
   "metadata": {},
   "outputs": [
    {
     "name": "stdout",
     "output_type": "stream",
     "text": [
      "masukkan Expresi Matematika - Infix: {[23+56]*[12-2]:[10+20]]\n",
      "kurung tidak cocok\n",
      "tidak dapat dioperasikan\n"
     ]
    }
   ],
   "source": [
    "strinfix = input('masukkan Expresi Matematika - Infix: ')\n",
    "if is_valid(strinfix):\n",
    "    strpostfix = in2post(strinfix)\n",
    "    print(\"expresi matematika: \",strpostfix)\n",
    "    print(\"hasil evaluasi: \", evaluatePost(strpostfix))\n",
    "else:\n",
    "    print('tidak dapat dioperasikan')"
   ]
  },
  {
   "cell_type": "code",
   "execution_count": 4,
   "metadata": {},
   "outputs": [
    {
     "name": "stdout",
     "output_type": "stream",
     "text": [
      "[5]\n"
     ]
    }
   ],
   "source": [
    "data =st.Stack()\n",
    "st.push(data,5)\n",
    "st.push(data,8)\n",
    "st.pop(data)\n",
    "st.push(data,9)\n",
    "st.pop(data)\n",
    "print(data)"
   ]
  }
 ],
 "metadata": {
  "kernelspec": {
   "display_name": "Python 3",
   "language": "python",
   "name": "python3"
  },
  "language_info": {
   "codemirror_mode": {
    "name": "ipython",
    "version": 3
   },
   "file_extension": ".py",
   "mimetype": "text/x-python",
   "name": "python",
   "nbconvert_exporter": "python",
   "pygments_lexer": "ipython3",
   "version": "3.6.9"
  }
 },
 "nbformat": 4,
 "nbformat_minor": 4
}
