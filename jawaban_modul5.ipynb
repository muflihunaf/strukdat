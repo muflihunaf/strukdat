{
 "cells": [
  {
   "cell_type": "code",
   "execution_count": 1,
   "metadata": {},
   "outputs": [
    {
     "name": "stdout",
     "output_type": "stream",
     "text": [
      "Data Yang Akan Dicari:  54\n",
      "Jumlah Iterai Yang Dilakukan 10\n",
      "Data Berada Pada Index ke [8, 9]\n",
      "[8, 9]\n"
     ]
    }
   ],
   "source": [
    "def orderedSearch(key,data):\n",
    "    ketemu = False\n",
    "    i = 0\n",
    "    stop = False\n",
    "    hasil = []\n",
    "    count = 0\n",
    "    print(\"Data Yang Akan Dicari: \", key)\n",
    "    while not stop and not ketemu:\n",
    "        if i == len(data) or data[i] > key:\n",
    "            stop = True\n",
    "        elif data[i] == key:\n",
    "            hasil.append(i)\n",
    "            ketemu = True\n",
    "        if data[i+1] == key:\n",
    "            ketemu = False\n",
    "        i += 1\n",
    "        count += 1\n",
    "    if ketemu:\n",
    "        print(\"Jumlah Iterai Yang Dilakukan\", count)\n",
    "        print(\"Data Berada Pada Index ke\", hasil)\n",
    "        return hasil\n",
    "    else:\n",
    "        print(\"Jumlah Iterai Yang Dilakukan\",count)\n",
    "        print(\"Data Tidak Ditemukan\")\n",
    "        return False\n",
    "data = [2,12,15,25,30,30,30,50,54,54,73]\n",
    "print(orderedSearch(54,data))"
   ]
  },
  {
   "cell_type": "code",
   "execution_count": 18,
   "metadata": {},
   "outputs": [
    {
     "name": "stdout",
     "output_type": "stream",
     "text": [
      "Melakukan Banyak Iterasi= 3\n",
      "Data Berada Pada Index= [5, 4, 6, 7]\n",
      "[5, 4, 6, 7]\n"
     ]
    }
   ],
   "source": [
    "def binarySearch(data,key):\n",
    "    ketemu = False\n",
    "    hasil = []\n",
    "    first = 0\n",
    "    last = len(data)-1\n",
    "    count = 0\n",
    "    \n",
    "    while first <= last and not(ketemu):\n",
    "        mid = (first+last)//2\n",
    "        if data[mid] == key:\n",
    "            ketemu = True\n",
    "            prev = mid-1\n",
    "            nex = mid+1\n",
    "            hasil.append(mid)\n",
    "            while key == data[prev]:\n",
    "                hasil.append(prev)\n",
    "                prev-=1\n",
    "                count+=1\n",
    "            while key == data[nex]:\n",
    "                hasil.append(nex)\n",
    "                nex+=1\n",
    "                count+=1\n",
    "        elif key > data[mid]:\n",
    "            first = mid+1\n",
    "        else:\n",
    "            last = mid-1\n",
    "            count+=1\n",
    "    print('Melakukan Banyak Iterasi=',count)\n",
    "    if ketemu:\n",
    "        print('Data Berada Pada Index=',hasil)\n",
    "        return hasil\n",
    "    else:\n",
    "        return False\n",
    "d1 = [2,2,12,15,25,25,25,25,30,54,73]\n",
    "print(binarySearch(d1,25))"
   ]
  }
 ],
 "metadata": {
  "kernelspec": {
   "display_name": "Python 3",
   "language": "python",
   "name": "python3"
  },
  "language_info": {
   "codemirror_mode": {
    "name": "ipython",
    "version": 3
   },
   "file_extension": ".py",
   "mimetype": "text/x-python",
   "name": "python",
   "nbconvert_exporter": "python",
   "pygments_lexer": "ipython3",
   "version": "3.6.9"
  }
 },
 "nbformat": 4,
 "nbformat_minor": 4
}
