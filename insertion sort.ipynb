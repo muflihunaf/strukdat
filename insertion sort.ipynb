{
 "cells": [
  {
   "cell_type": "code",
   "execution_count": 152,
   "metadata": {
    "scrolled": false
   },
   "outputs": [
    {
     "name": "stdout",
     "output_type": "stream",
     "text": [
      "Iterasi ke- 1\n",
      "Data  [10, 5, 8, 9] Key 8\n",
      "akhir [10, 5, 8, 9]\n",
      "Iterasi ke- 2\n",
      "Data  [10, 5, 8, 9] Key 5\n",
      "akhir [10, 5, 8, 9]\n",
      "Iterasi ke- 3\n",
      "Data  [10, 5, 8, 9] Key 10\n",
      "[5, 5, 8, 9]\n",
      "[5, 8, 8, 9]\n",
      "[5, 8, 9, 9]\n",
      "akhir [5, 8, 9, 10]\n"
     ]
    }
   ],
   "source": [
    "def insertionSortkananasc(a):\n",
    "    count =1\n",
    "    for i in range(len(a)-1,0,-1):\n",
    "        key = a[i-1]\n",
    "        print(\"Iterasi ke-\",count)\n",
    "        print(\"Data \", a, \"Key\",key)\n",
    "        j = i\n",
    "        while j < len(a) and key >= a[j]:\n",
    "            a[j-1] = a[j]\n",
    "            j += 1\n",
    "            print(a)\n",
    "        a[j-1] = key\n",
    "        count += 1\n",
    "        print('akhir',a)\n",
    "a = [10, 5, 8, 9]\n",
    "insertionSortkanan(a)"
   ]
  },
  {
   "cell_type": "code",
   "execution_count": 153,
   "metadata": {},
   "outputs": [
    {
     "name": "stdout",
     "output_type": "stream",
     "text": [
      "j  10 5\n",
      "5 5\n",
      "akhir [10, 5, 8, 9]\n",
      "j  5 8\n",
      "[10, 5, 5, 9] 10\n",
      "5 8\n",
      "akhir [10, 8, 5, 9]\n",
      "j  5 9\n",
      "[10, 8, 5, 5] 8\n",
      "[10, 8, 8, 5] 10\n",
      "8 9\n",
      "akhir [10, 9, 8, 5]\n"
     ]
    }
   ],
   "source": [
    "def insertionSortkiriasc(a):\n",
    "    for i in range(1,len(a)):\n",
    "        key = a[i]\n",
    "        j = i-1\n",
    "        print('j ',a[j],key)\n",
    "        while j >= 0 and key >= a[j]:\n",
    "            a[j+1] = a[j]\n",
    "            j -= 1\n",
    "            print(a,a[j])\n",
    "        print(a[j+1],key)\n",
    "        a[j+1] = key\n",
    "        print('akhir',a)\n",
    "a = [10, 5, 8, 9]\n",
    "insertionSortkiriasc(a)\n",
    "    "
   ]
  },
  {
   "cell_type": "code",
   "execution_count": 160,
   "metadata": {
    "scrolled": true
   },
   "outputs": [
    {
     "name": "stdout",
     "output_type": "stream",
     "text": [
      "iterasi ke 1\n",
      "data  [10, 5, 8, 9] key  5\n",
      "akhir [10, 5, 8, 9]\n",
      "iterasi ke 2\n",
      "data  [10, 5, 8, 9] key  8\n",
      "[10, 5, 5, 9] 10\n",
      "akhir [10, 8, 5, 9]\n",
      "iterasi ke 3\n",
      "data  [10, 8, 5, 9] key  9\n",
      "[10, 8, 5, 5] 8\n",
      "[10, 8, 8, 5] 10\n",
      "akhir [10, 9, 8, 5]\n"
     ]
    }
   ],
   "source": [
    "a = [10, 5, 8, 9]\n",
    "def insertionSortkiriDesc(a):\n",
    "    for i in range(1,len(a)):\n",
    "        print(\"iterasi ke\", i)\n",
    "        key = a[i]\n",
    "        print(\"data \", a, \"key \",key)\n",
    "        j = i-1\n",
    "        while j >= 0 and key >= a[j]:\n",
    "            a[j+1] = a[j]\n",
    "            j -= 1\n",
    "            print(a,a[j])\n",
    "        a[j+1] = key\n",
    "        print('akhir',a)\n",
    "insertionSortkiriDesc(a)"
   ]
  },
  {
   "cell_type": "code",
   "execution_count": 161,
   "metadata": {},
   "outputs": [
    {
     "name": "stdout",
     "output_type": "stream",
     "text": [
      "Iterasi ke- 1\n",
      "Data  [10, 5, 8, 9] Key 8\n",
      "[10, 5, 9, 9]\n",
      "akhir [10, 5, 9, 8]\n",
      "Iterasi ke- 1\n",
      "Data  [10, 5, 9, 8] Key 5\n",
      "[10, 9, 9, 8]\n",
      "[10, 9, 8, 8]\n",
      "akhir [10, 9, 8, 5]\n",
      "Iterasi ke- 1\n",
      "Data  [10, 9, 8, 5] Key 10\n",
      "akhir [10, 9, 8, 5]\n"
     ]
    }
   ],
   "source": [
    "a = [10, 5, 8, 9]\n",
    "count =1\n",
    "for i in range(len(a)-1,0,-1):\n",
    "    key = a[i-1]\n",
    "    print(\"Iterasi ke-\",count)\n",
    "    print(\"Data \", a, \"Key\",key)\n",
    "    j = i\n",
    "    while j < len(a) and key <= a[j]:\n",
    "        a[j-1] = a[j]\n",
    "        j += 1\n",
    "        print(a)\n",
    "    a[j-1] = key\n",
    "    print('akhir',a)"
   ]
  }
 ],
 "metadata": {
  "kernelspec": {
   "display_name": "Python 3",
   "language": "python",
   "name": "python3"
  },
  "language_info": {
   "codemirror_mode": {
    "name": "ipython",
    "version": 3
   },
   "file_extension": ".py",
   "mimetype": "text/x-python",
   "name": "python",
   "nbconvert_exporter": "python",
   "pygments_lexer": "ipython3",
   "version": "3.6.9"
  }
 },
 "nbformat": 4,
 "nbformat_minor": 4
}
