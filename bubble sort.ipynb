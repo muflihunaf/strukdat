{
 "cells": [
  {
   "cell_type": "code",
   "execution_count": 1,
   "metadata": {
    "scrolled": true
   },
   "outputs": [
    {
     "name": "stdout",
     "output_type": "stream",
     "text": [
      "Masukkan Berapa Data Yang Akan Dimasukkan: 4\n",
      "Masukkan Data Ke-1: 6\n",
      "Masukkan Data Ke-2: 2\n",
      "Masukkan Data Ke-3: 4\n",
      "Masukkan Data Ke-4: 8\n",
      "Nilai Awal:  [6, 2, 4, 8]\n",
      "Iterasi Ke- 1 Jumlah Iterasi- 3\n",
      "[2, 6, 4, 8]\n",
      "[2, 4, 6, 8]\n",
      "[2, 4, 6, 8]\n",
      "Data Sudah Urut:  [2, 4, 6, 8]\n"
     ]
    },
    {
     "data": {
      "text/plain": [
       "[2, 4, 6, 8]"
      ]
     },
     "execution_count": 1,
     "metadata": {},
     "output_type": "execute_result"
    }
   ],
   "source": [
    "def sorting(data):\n",
    "    print(\"Nilai Awal: \", data)\n",
    "    for i in range(len(data)-1,0,-1):\n",
    "        print(\"Iterasi Ke-\", len(data)-i, \"Jumlah Iterasi-\",i)\n",
    "        for j in range(i):\n",
    "            if data[j] > data[j+1]:\n",
    "                data[j],data[j+1] = data[j+1],data[j]\n",
    "            print(data)\n",
    "        cek = True\n",
    "        for k in range(len(data)-1):\n",
    "            if data[k] <= data[k+1]:\n",
    "                cek = cek and True\n",
    "            else:\n",
    "                cek = cek and False\n",
    "        if cek:\n",
    "            print(\"Data Sudah Urut: \", data)\n",
    "            return data\n",
    "data = []\n",
    "b = int(input(\"Masukkan Berapa Data Yang Akan Dimasukkan: \"))\n",
    "for i in range(b):\n",
    "    a = int(input(\"Masukkan Data Ke-\" + str(i+1) + \": \" ))\n",
    "    data.append(a)\n",
    "sorting(data)"
   ]
  }
 ],
 "metadata": {
  "kernelspec": {
   "display_name": "Python 3",
   "language": "python",
   "name": "python3"
  },
  "language_info": {
   "codemirror_mode": {
    "name": "ipython",
    "version": 3
   },
   "file_extension": ".py",
   "mimetype": "text/x-python",
   "name": "python",
   "nbconvert_exporter": "python",
   "pygments_lexer": "ipython3",
   "version": "3.6.9"
  }
 },
 "nbformat": 4,
 "nbformat_minor": 4
}
